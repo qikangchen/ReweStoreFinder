{
 "cells": [
  {
   "cell_type": "code",
   "execution_count": 39,
   "metadata": {},
   "outputs": [],
   "source": [
    "import json"
   ]
  },
  {
   "cell_type": "code",
   "execution_count": 18,
   "metadata": {
    "scrolled": true
   },
   "outputs": [
    {
     "name": "stdout",
     "output_type": "stream",
     "text": [
      "{'driver': 'Chrome', 'driver_path': '/mnt/data/Projects/Programming/ReweStoreFinder/chromedriver', 'product_site': 'https://shop.rewe.de/p/breyers-delights-peanut-butter-vegan-500ml/8295089', 'zip': '17139', 'max_stores': 'None'}\n"
     ]
    }
   ],
   "source": [
    "with open('config.json') as json_file:\n",
    "    config = json.load(json_file)\n",
    "    print(config)"
   ]
  },
  {
   "cell_type": "code",
   "execution_count": 19,
   "metadata": {},
   "outputs": [
    {
     "name": "stdout",
     "output_type": "stream",
     "text": [
      "Configure:\n",
      "[0] Driver\n",
      "[1] Driver path\n",
      "[2] Product site\n",
      "[3] Zip code\n",
      "[4] Max stores\n"
     ]
    }
   ],
   "source": [
    "print(\"Configure:\\n[0] Driver\\n[1] Driver path\\n[2] Product site\\n[3] Zip code\\n[4] Max stores\")"
   ]
  },
  {
   "cell_type": "code",
   "execution_count": 26,
   "metadata": {
    "scrolled": true
   },
   "outputs": [
    {
     "name": "stdout",
     "output_type": "stream",
     "text": [
      "Type i.e. 1,2,4 to configure these options or press ENTER to load existing configuration:0,1,2,3,4\n"
     ]
    }
   ],
   "source": [
    "configure_options = input(\"Type i.e. 1,2,4 to configure these options or press ENTER to load existing configuration:\")"
   ]
  },
  {
   "cell_type": "code",
   "execution_count": 28,
   "metadata": {},
   "outputs": [
    {
     "name": "stdout",
     "output_type": "stream",
     "text": [
      "[0] Select your driver [Chrome, Edge, Firefox, Safari]: a\n",
      "[1] Enter your driver path (i.e. ~/chromedriver): aa\n",
      "[2] Enter the Rewe product site: aaa\n",
      "[3] Enter your zip code: aaaa\n",
      "[4] Enter how many stores should be searched. Press ENTER to select maximum available: aaaaa\n"
     ]
    }
   ],
   "source": [
    "for config_option in configure_options.split(','):\n",
    "    if config_option == '0':\n",
    "        config['driver'] = input(\"[0] Select your driver [Chrome, Edge, Firefox, Safari]: \")\n",
    "    elif config_option == '1':\n",
    "        config['driver_path'] = input(\"[1] Enter your driver path (i.e. ~/chromedriver): \")\n",
    "    elif config_option == '2':\n",
    "        config['product_site'] = input(\"[2] Enter the Rewe product site: \")\n",
    "    elif config_option == '3':\n",
    "        config['zip'] = input(\"[3] Enter your zip code: \")\n",
    "    elif config_option == '4':\n",
    "        config['max_stores'] = input(\"[4] Enter how many stores should be searched. Press ENTER to select maximum available: \")"
   ]
  },
  {
   "cell_type": "code",
   "execution_count": 30,
   "metadata": {
    "scrolled": true
   },
   "outputs": [],
   "source": [
    "with open('config.json', 'w') as outfile:\n",
    "    json.dump(config, outfile)"
   ]
  },
  {
   "cell_type": "code",
   "execution_count": 32,
   "metadata": {},
   "outputs": [
    {
     "name": "stdout",
     "output_type": "stream",
     "text": [
      "Loaded configuraton: \n"
     ]
    }
   ],
   "source": [
    "print(\"Loaded configuraton: \")"
   ]
  },
  {
   "cell_type": "code",
   "execution_count": 33,
   "metadata": {},
   "outputs": [
    {
     "name": "stdout",
     "output_type": "stream",
     "text": [
      "{'driver': 'a', 'driver_path': 'aa', 'product_site': 'aaa', 'zip': 'aaaa', 'max_stores': 'aaaaa'}\n"
     ]
    }
   ],
   "source": [
    "print(config)"
   ]
  },
  {
   "cell_type": "code",
   "execution_count": 47,
   "metadata": {},
   "outputs": [
    {
     "data": {
      "text/plain": [
       "3"
      ]
     },
     "execution_count": 47,
     "metadata": {},
     "output_type": "execute_result"
    }
   ],
   "source": [
    "int(\"3\")"
   ]
  }
 ],
 "metadata": {
  "kernelspec": {
   "display_name": "Python 3",
   "language": "python",
   "name": "python3"
  },
  "language_info": {
   "codemirror_mode": {
    "name": "ipython",
    "version": 3
   },
   "file_extension": ".py",
   "mimetype": "text/x-python",
   "name": "python",
   "nbconvert_exporter": "python",
   "pygments_lexer": "ipython3",
   "version": "3.7.6"
  }
 },
 "nbformat": 4,
 "nbformat_minor": 4
}
